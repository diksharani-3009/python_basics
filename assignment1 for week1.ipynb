{
 "cells": [
  {
   "cell_type": "code",
   "execution_count": 1,
   "id": "35c067ae-49f3-4557-9239-2db80d29c43b",
   "metadata": {},
   "outputs": [],
   "source": [
    "s=\"Diksha\""
   ]
  },
  {
   "cell_type": "code",
   "execution_count": 2,
   "id": "f9ea1d81-2d68-4dd5-a83d-aae92adc2f83",
   "metadata": {},
   "outputs": [
    {
     "data": {
      "text/plain": [
       "str"
      ]
     },
     "execution_count": 2,
     "metadata": {},
     "output_type": "execute_result"
    }
   ],
   "source": [
    "type(s)"
   ]
  },
  {
   "cell_type": "code",
   "execution_count": 3,
   "id": "16c435ff-81cb-481c-9928-188abfb547fa",
   "metadata": {},
   "outputs": [],
   "source": [
    "l=[3,9.89,\"pwskills\",4+7j]"
   ]
  },
  {
   "cell_type": "code",
   "execution_count": 4,
   "id": "f28642be-7a9d-4140-b381-9288f0f84cfd",
   "metadata": {},
   "outputs": [
    {
     "data": {
      "text/plain": [
       "list"
      ]
     },
     "execution_count": 4,
     "metadata": {},
     "output_type": "execute_result"
    }
   ],
   "source": [
    "type(l)"
   ]
  },
  {
   "cell_type": "code",
   "execution_count": 5,
   "id": "41057be5-2b0b-462c-9b7a-cb4265cd3057",
   "metadata": {},
   "outputs": [],
   "source": [
    "f=9.55"
   ]
  },
  {
   "cell_type": "code",
   "execution_count": 6,
   "id": "04780215-dd14-45a0-b21a-f2959b01d7b9",
   "metadata": {},
   "outputs": [
    {
     "data": {
      "text/plain": [
       "float"
      ]
     },
     "execution_count": 6,
     "metadata": {},
     "output_type": "execute_result"
    }
   ],
   "source": [
    "type(f)"
   ]
  },
  {
   "cell_type": "code",
   "execution_count": 7,
   "id": "709eeeb3-da58-4a1b-857c-e6a4eaf29008",
   "metadata": {},
   "outputs": [],
   "source": [
    "t=(3,9.89,\"pwskills\",4+7j)"
   ]
  },
  {
   "cell_type": "code",
   "execution_count": 8,
   "id": "e56874cc-c856-4f7e-a18b-d20336cfc687",
   "metadata": {},
   "outputs": [
    {
     "data": {
      "text/plain": [
       "tuple"
      ]
     },
     "execution_count": 8,
     "metadata": {},
     "output_type": "execute_result"
    }
   ],
   "source": [
    "type(t)"
   ]
  },
  {
   "cell_type": "code",
   "execution_count": 10,
   "id": "863f0dd7-70ff-4586-ad3d-8791e7a9b509",
   "metadata": {},
   "outputs": [],
   "source": [
    "var1=''"
   ]
  },
  {
   "cell_type": "code",
   "execution_count": 11,
   "id": "4d081d94-e51c-46cd-a064-71ca3b10af90",
   "metadata": {},
   "outputs": [
    {
     "data": {
      "text/plain": [
       "str"
      ]
     },
     "execution_count": 11,
     "metadata": {},
     "output_type": "execute_result"
    }
   ],
   "source": [
    "type(var1)"
   ]
  },
  {
   "cell_type": "code",
   "execution_count": 12,
   "id": "f626dbef-aa6e-48b3-ab7c-fd5a77dea46b",
   "metadata": {},
   "outputs": [],
   "source": [
    "var2='[ds,ml,python]'"
   ]
  },
  {
   "cell_type": "code",
   "execution_count": 13,
   "id": "de2952f5-98c4-4038-9a1c-0cfbfb9816a2",
   "metadata": {},
   "outputs": [
    {
     "data": {
      "text/plain": [
       "str"
      ]
     },
     "execution_count": 13,
     "metadata": {},
     "output_type": "execute_result"
    }
   ],
   "source": [
    "type(var2)"
   ]
  },
  {
   "cell_type": "code",
   "execution_count": 14,
   "id": "19c65ffe-6522-4541-a8db-66f893a6aa02",
   "metadata": {},
   "outputs": [],
   "source": [
    "var3=['bs','ml','python']"
   ]
  },
  {
   "cell_type": "code",
   "execution_count": 15,
   "id": "2b947b84-819f-46e1-8cab-16e7468659b2",
   "metadata": {},
   "outputs": [
    {
     "data": {
      "text/plain": [
       "list"
      ]
     },
     "execution_count": 15,
     "metadata": {},
     "output_type": "execute_result"
    }
   ],
   "source": [
    "type(var3)"
   ]
  },
  {
   "cell_type": "code",
   "execution_count": 16,
   "id": "e5c78e65-f779-490d-b4a3-22e7bc86b160",
   "metadata": {},
   "outputs": [],
   "source": [
    "var4=1"
   ]
  },
  {
   "cell_type": "code",
   "execution_count": 17,
   "id": "b3d7bbc4-12d1-41e9-9a05-f16466ae0f3c",
   "metadata": {},
   "outputs": [
    {
     "data": {
      "text/plain": [
       "int"
      ]
     },
     "execution_count": 17,
     "metadata": {},
     "output_type": "execute_result"
    }
   ],
   "source": [
    "type(var4)"
   ]
  },
  {
   "cell_type": "code",
   "execution_count": 19,
   "id": "7ce47031-f876-4508-ac9f-8eb100f20277",
   "metadata": {},
   "outputs": [
    {
     "name": "stdout",
     "output_type": "stream",
     "text": [
      "3 <class 'int'>\n",
      "diksha <class 'str'>\n",
      "5.99 <class 'float'>\n",
      "(8+8j) <class 'complex'>\n",
      "pw <class 'str'>\n",
      "66 <class 'int'>\n",
      "9.44 <class 'float'>\n",
      "33 <class 'int'>\n",
      "pwskills <class 'str'>\n",
      "88 <class 'int'>\n"
     ]
    }
   ],
   "source": [
    "l=[3,\"diksha\",5.99,8+8j,'pw',66,9.44,33,\"pwskills\",88]\n",
    "for i in l:\n",
    "    print(i , type(i))"
   ]
  },
  {
   "cell_type": "code",
   "execution_count": 24,
   "id": "1638376c-c94e-40ec-b8c5-387bae603399",
   "metadata": {},
   "outputs": [
    {
     "name": "stdin",
     "output_type": "stream",
     "text": [
      "Enter number a:  20\n",
      "Enter number b:  10\n"
     ]
    },
    {
     "name": "stdout",
     "output_type": "stream",
     "text": [
      "2.0 is divisible by 10 and can be divided by 1 number of times\n"
     ]
    }
   ],
   "source": [
    "a = int(input(\"Enter number a: \"))\n",
    "b = int(input(\"Enter number b: \"))\n",
    "c= 0\n",
    "while a % b == 0:\n",
    "    a = a / b\n",
    "    c += 1\n",
    "\n",
    "if c > 0:\n",
    "    print(f\"{a} is divisible by {b} and can be divided by {c} number of times\")\n",
    "else:\n",
    "    print(\"a is not divisible by b\")"
   ]
  },
  {
   "cell_type": "code",
   "execution_count": 26,
   "id": "262d1f47-0243-468c-8a6e-5ea52fea7d37",
   "metadata": {},
   "outputs": [
    {
     "name": "stdout",
     "output_type": "stream",
     "text": [
      "30 is divisbile by 3\n",
      "10 is not divisible by 3\n",
      "66 is divisbile by 3\n",
      "99 is divisbile by 3\n",
      "40 is not divisible by 3\n",
      "38 is not divisible by 3\n",
      "54 is divisbile by 3\n",
      "77 is not divisible by 3\n",
      "22 is not divisible by 3\n",
      "65 is not divisible by 3\n",
      "34 is not divisible by 3\n",
      "88 is not divisible by 3\n",
      "97 is not divisible by 3\n",
      "76 is not divisible by 3\n",
      "54 is divisbile by 3\n",
      "78 is divisbile by 3\n",
      "99 is divisbile by 3\n",
      "21 is divisbile by 3\n",
      "66 is divisbile by 3\n",
      "87 is divisbile by 3\n",
      "54 is divisbile by 3\n",
      "32 is not divisible by 3\n",
      "91 is not divisible by 3\n",
      "64 is not divisible by 3\n",
      "32 is not divisible by 3\n"
     ]
    }
   ],
   "source": [
    "l=[30,10,66,99,40,38,54,77,22,65,34,88,97,76,54,78,99,21,66,87,54,32,91,64,32]\n",
    "for i in l:\n",
    "    if(i%3==0):\n",
    "        print(f\"{i} is divisbile by 3\")\n",
    "    else:\n",
    "        print(f\"{i} is not divisible by 3\")"
   ]
  },
  {
   "cell_type": "code",
   "execution_count": null,
   "id": "98efacf4-3c8b-483d-84b8-fb5be78e1639",
   "metadata": {},
   "outputs": [],
   "source": []
  }
 ],
 "metadata": {
  "kernelspec": {
   "display_name": "Python 3 (ipykernel)",
   "language": "python",
   "name": "python3"
  },
  "language_info": {
   "codemirror_mode": {
    "name": "ipython",
    "version": 3
   },
   "file_extension": ".py",
   "mimetype": "text/x-python",
   "name": "python",
   "nbconvert_exporter": "python",
   "pygments_lexer": "ipython3",
   "version": "3.10.8"
  }
 },
 "nbformat": 4,
 "nbformat_minor": 5
}
